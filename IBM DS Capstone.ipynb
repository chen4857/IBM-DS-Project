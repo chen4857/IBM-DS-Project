{
 "cells": [
  {
   "cell_type": "markdown",
   "metadata": {},
   "source": [
    "## IBM Data Science Capstone - USA Car Accidents Severity Prediction"
   ]
  },
  {
   "cell_type": "markdown",
   "metadata": {},
   "source": [
    "### 1. Introduction: Business Problem"
   ]
  },
  {
   "cell_type": "markdown",
   "metadata": {},
   "source": [
    "Road traffic accidents are one of the leading causes of death. Reducing traffic accidents to save families and reduce economic and societal impact remains an important yet challenging task. \n",
    "\n",
    "Accident prediction and severity prediciton are critical. If we can identify the patterns of how these serious accidents happen and the key factors affecting the accident severity, we might be able to inform better actions and resouce allocations in real time.\n",
    "\n",
    "The objective of this project is to identify the factors affecting the accident severity and develop a model to accurately predict the accident severity. A good predictive model to predict how severe a car accident could be will help set up the infrastructures in a more resonable way and allocate resources in a more effective way, so that we can avoid the tragedies as many as possible and save the injured at the best."
   ]
  },
  {
   "cell_type": "markdown",
   "metadata": {},
   "source": [
    "### 2. Data"
   ]
  },
  {
   "cell_type": "markdown",
   "metadata": {},
   "source": [
    "#### 2.1 Data Source"
   ]
  },
  {
   "cell_type": "markdown",
   "metadata": {},
   "source": [
    "This is a countrywide car accident dataset, which covers 49 states of the USA. The accident data are collected from February 2016 to June 2020, using two APIs that provide streaming traffic incident (or event) data. These APIs broadcast traffic data captured by a variety of entities, such as the US and state departments of transportation, law enforcement agencies, traffic cameras, and traffic sensors within the road-networks.\n",
    "\n",
    "**Acknowledgements**\n",
    "\n",
    "Moosavi, Sobhan, Mohammad Hossein Samavatian, Srinivasan Parthasarathy, and Rajiv Ramnath. “A Countrywide Traffic Accident Dataset.”, 2019.\n",
    "\n",
    "Moosavi, Sobhan, Mohammad Hossein Samavatian, Srinivasan Parthasarathy, Radu Teodorescu, and Rajiv Ramnath. \"Accident Risk Prediction based on Heterogeneous Sparse Data: New Dataset and Insights.\" In proceedings of the 27th ACM SIGSPATIAL International Conference on Advances in Geographic Information Systems, ACM, 2019.\n",
    "\n",
    "Link to dataset: https://www.kaggle.com/sobhanmoosavi/us-accidents"
   ]
  },
  {
   "cell_type": "markdown",
   "metadata": {},
   "source": [
    "#### 2.2 Dataset Overview"
   ]
  },
  {
   "cell_type": "markdown",
   "metadata": {},
   "source": [
    "There are about 3.5 million accident records in this dataset. Due to the limit of computing capacity, I'm going to only focus on the accident records in New York State.\n",
    "\n",
    "The dataset consists of 49 variables in total:\n",
    "* time and location of the accidents. (i.e. Start_Time, Start_Lat, Start_Lng, End_Lat, End_Lng)\n",
    "* road conditions (i.e. Bump, Crossing, Junction, Stop, Traffic_Calming, Traffic_Signal)\n",
    "* weather conditions (i.e. Wind_Chill, Humidity, Visibility, Weather_Condition)\n",
    "* accident severity (on a scale of 1 to 4)\n",
    "\n",
    "I'm going to first clean the data and conduct an Exploratory Data Analysis to better understand if there are any correlations between the attributes, and if any variables have clear impact on traffic severity simply based on visualization. With feature selection, I'm going to determine the variables used to train the models. I'll then build several models and find one which has the best predictive power."
   ]
  }
 ],
 "metadata": {
  "kernelspec": {
   "display_name": "Python 3",
   "language": "python",
   "name": "python3"
  },
  "language_info": {
   "codemirror_mode": {
    "name": "ipython",
    "version": 3
   },
   "file_extension": ".py",
   "mimetype": "text/x-python",
   "name": "python",
   "nbconvert_exporter": "python",
   "pygments_lexer": "ipython3",
   "version": "3.6.5"
  }
 },
 "nbformat": 4,
 "nbformat_minor": 2
}
